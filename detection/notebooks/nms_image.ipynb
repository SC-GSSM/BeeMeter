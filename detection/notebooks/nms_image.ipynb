{
 "cells": [
  {
   "cell_type": "code",
   "execution_count": 1,
   "metadata": {
    "collapsed": true
   },
   "outputs": [
    {
     "name": "stdout",
     "output_type": "stream",
     "text": [
      "Faster NMS is used!\n"
     ]
    }
   ],
   "source": [
    "from detection.model.registry import load_model\n",
    "import cv2\n",
    "import matplotlib.pyplot as plt\n",
    "from detection.utils.box_tools import draw_box"
   ]
  },
  {
   "cell_type": "code",
   "execution_count": 2,
   "outputs": [
    {
     "name": "stderr",
     "output_type": "stream",
     "text": [
      "Creating default boxes for every feature layer: 100%|██████████| 8/8 [00:00<00:00, 3333.77it/s]\n"
     ]
    }
   ],
   "source": [
    "config = \"/media/t/Bachelor_final_training/MobileNetV2_B_10_expand/model_config.conf\"\n",
    "weights = \"/media/t/Bachelor_final_training/MobileNetV2_B_10_expand/checkpoints/MobileNetV2_B_10_expand-58_loss-2.0722_val_loss-2.4338.h5\"\n",
    "model = load_model(config,weights)"
   ],
   "metadata": {
    "collapsed": false,
    "pycharm": {
     "name": "#%%\n"
    }
   }
  },
  {
   "cell_type": "code",
   "execution_count": 3,
   "outputs": [],
   "source": [
    "image = cv2.imread(\"/media/t/Bachelor/training data/training/gopro_training_img/imageGo27.jpg\")\n",
    "image = cv2.cvtColor(image, cv2.COLOR_BGR2RGB)"
   ],
   "metadata": {
    "collapsed": false,
    "pycharm": {
     "name": "#%%\n"
    }
   }
  },
  {
   "cell_type": "code",
   "execution_count": 7,
   "outputs": [],
   "source": [
    "t = 1\n",
    "boxes = model.predict([image])[0]\n",
    "i = draw_box(image, boxes=boxes[:, 1:], scores=None, out=\"show\", thickness=t, color=(0,0,255))\n",
    "i = draw_box(image, boxes=boxes[:, 1:], scores=None, out=\"save\", thickness=t, color=(0,0,255), filename=\"post_nms.png\")"
   ],
   "metadata": {
    "collapsed": false,
    "pycharm": {
     "name": "#%%\n"
    }
   }
  },
  {
   "cell_type": "code",
   "execution_count": 8,
   "outputs": [],
   "source": [
    "boxes_no_nms = model.predict([image], nms_threshold=1, conf_threshold=0.3)[0]\n",
    "i = draw_box(image, boxes=boxes_no_nms[:, 1:], scores=None, out=\"show\", thickness=t, color=(0,0,255))\n",
    "i = draw_box(image, boxes=boxes_no_nms[:, 1:], scores=None, out=\"save\", thickness=t, color=(0,0,255), filename=\"pre_nms.png\")"
   ],
   "metadata": {
    "collapsed": false,
    "pycharm": {
     "name": "#%%\n"
    }
   }
  }
 ],
 "metadata": {
  "kernelspec": {
   "name": "pycharm-9b1bafe9",
   "language": "python",
   "display_name": "PyCharm (BeeMeter)"
  },
  "language_info": {
   "codemirror_mode": {
    "name": "ipython",
    "version": 2
   },
   "file_extension": ".py",
   "mimetype": "text/x-python",
   "name": "python",
   "nbconvert_exporter": "python",
   "pygments_lexer": "ipython2",
   "version": "2.7.6"
  }
 },
 "nbformat": 4,
 "nbformat_minor": 0
}